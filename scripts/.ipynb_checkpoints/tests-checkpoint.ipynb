{
 "cells": [
  {
   "cell_type": "code",
   "execution_count": 1,
   "metadata": {},
   "outputs": [
    {
     "name": "stderr",
     "output_type": "stream",
     "text": [
      "Using TensorFlow backend.\n"
     ]
    }
   ],
   "source": [
    "from utils import *\n",
    "from tests import *\n",
    "%load_ext autoreload\n",
    "%autoreload 2"
   ]
  },
  {
   "cell_type": "code",
   "execution_count": null,
   "metadata": {},
   "outputs": [],
   "source": [
    "actin, axon = test_image(940, \"model_yang\", thresh_results=False, batch_size=16)"
   ]
  },
  {
   "cell_type": "code",
   "execution_count": null,
   "metadata": {},
   "outputs": [],
   "source": [
    "plt.imshow(actin)\n",
    "plt.show()"
   ]
  },
  {
   "cell_type": "code",
   "execution_count": null,
   "metadata": {},
   "outputs": [],
   "source": [
    "plt.imshow(axon)\n",
    "plt.show()"
   ]
  },
  {
   "cell_type": "code",
   "execution_count": null,
   "metadata": {},
   "outputs": [],
   "source": [
    "from multi_testing import *\n",
    "%load_ext autoreload\n",
    "%autoreload 2"
   ]
  },
  {
   "cell_type": "code",
   "execution_count": null,
   "metadata": {},
   "outputs": [],
   "source": [
    "models_to_test = [\n",
    "    {\n",
    "        'name': 'model_yang',\n",
    "        'return_all': False,\n",
    "        'nb_examples': 7,\n",
    "        'validation_split': 0.3,\n",
    "        'epochs': 3,\n",
    "        'batch_size': 2,\n",
    "        'use_saved_weights': False,\n",
    "        'channel': 'axons'\n",
    "    },\n",
    "    {\n",
    "        'name': 'model_yang_with_conv2dtranspose',\n",
    "        'return_all': False,\n",
    "        'nb_examples': 7,\n",
    "        'validation_split': 0.3,\n",
    "        'epochs': 3,\n",
    "        'batch_size': 2,\n",
    "        'use_saved_weights': False,\n",
    "        'channel': 'axons'\n",
    "    }\n",
    "]\n",
    "\n",
    "run_multi_tests(models_to_test)"
   ]
  },
  {
   "cell_type": "code",
   "execution_count": null,
   "metadata": {
    "collapsed": true
   },
   "outputs": [],
   "source": []
  },
  {
   "cell_type": "code",
   "execution_count": null,
   "metadata": {
    "collapsed": true
   },
   "outputs": [],
   "source": [
    "X_train, X_test, y_train, y_test = load_dataset(False, 10)"
   ]
  },
  {
   "cell_type": "code",
   "execution_count": null,
   "metadata": {},
   "outputs": [],
   "source": [
    "save_dataset(10, 0.2)"
   ]
  },
  {
   "cell_type": "code",
   "execution_count": null,
   "metadata": {
    "collapsed": true,
    "scrolled": true
   },
   "outputs": [],
   "source": [
    "min_ones_ratio = 0.1\n",
    "min_ones = crop_size * min_ones_ratio\n",
    "cpt = 0\n",
    "for i in range(0, 1040):\n",
    "    if i % 10 == 0:\n",
    "        print(i)\n",
    "    x = np.load(folder_images_saving_train_x + \"/\" + str(i) + \".npy\")\n",
    "    y = np.load(folder_images_saving_train_y + \"/\" + str(i) + \".npy\")\n",
    "    crops_x, crops_y = get_all_crops(x, y)\n",
    "    length = crops_x.shape[0]\n",
    "    for j in range(0, length):\n",
    "        # We do not want to keep too many black crops, so we make sure there is some data in both train and label\n",
    "        # matrices before taking the flips.\n",
    "        if np.sum(crops_x[j]) > min_ones and np.sum(crops_y[j, :, :, 0]) > min_ones and np.sum(crops_y[j, :, :, 1]) > min_ones:\n",
    "            flips_x, flips_y = get_flips_images(crops_x[j], crops_y[j])\n",
    "            for k in range(0, 3):\n",
    "                cpt += 1\n",
    "        else:\n",
    "            cpt += 1\n",
    "\n",
    "print(\"++++\")\n",
    "print(cpt)"
   ]
  },
  {
   "cell_type": "code",
   "execution_count": null,
   "metadata": {
    "collapsed": true
   },
   "outputs": [],
   "source": [
    "# 118145\n",
    "with h5py.File(main_folder_path + \"/test.hdf5\", 'w') as f:\n",
    "    dataset = f.create_dataset(\"X\", (cpt, crop_size, crop_size, 1))\n",
    "    \n",
    "with h5py.File(main_folder_path + \"/test.hdf5\", 'a') as f:\n",
    "    f['X'][:10] = np.ones((10, crop_size, crop_size, 1))\n",
    "\n",
    "# print(dataset.shape)\n",
    "# dataset[:10]"
   ]
  },
  {
   "cell_type": "code",
   "execution_count": 3,
   "metadata": {},
   "outputs": [
    {
     "name": "stderr",
     "output_type": "stream",
     "text": [
      "/home/maewanto/anaconda3/lib/python3.6/site-packages/sklearn/model_selection/_split.py:2010: FutureWarning: From version 0.21, test_size will always complement train_size unless both are specified.\n",
      "  FutureWarning)\n"
     ]
    }
   ],
   "source": [
    "X_train, X_test, y_train, y_test = load_dataset(False, 10)"
   ]
  },
  {
   "cell_type": "code",
   "execution_count": 13,
   "metadata": {},
   "outputs": [
    {
     "data": {
      "image/png": "[encoded data removed]",
      "text/plain": [
       "<matplotlib.figure.Figure at 0x7fb16b50b470>"
      ]
     },
     "metadata": {},
     "output_type": "display_data"
    },
    {
     "data": {
      "image/png": "[encoded data removed]",
      "text/plain": [
       "<matplotlib.figure.Figure at 0x7fb16b50b3c8>"
      ]
     },
     "metadata": {},
     "output_type": "display_data"
    }
   ],
   "source": [
    "actin, axon = get_images_from_train_label(X_train[3], y_train[3])\n",
    "axon_threshold = axon.copy()\n",
    "axon_threshold[axon_threshold != 0] = 1\n",
    "plt.imshow(axon)\n",
    "plt.figure()\n",
    "plt.imshow(axon_threshed)\n",
    "plt.show()"
   ]
  },
  {
   "cell_type": "code",
   "execution_count": null,
   "metadata": {
    "collapsed": true
   },
   "outputs": [],
   "source": []
  }
 ],
 "metadata": {
  "kernelspec": {
   "display_name": "Python 3",
   "language": "python",
   "name": "python3"
  },
  "language_info": {
   "codemirror_mode": {
    "name": "ipython",
    "version": 3
   },
   "file_extension": ".py",
   "mimetype": "text/x-python",
   "name": "python",
   "nbconvert_exporter": "python",
   "pygments_lexer": "ipython3",
   "version": "3.6.2"
  }
 },
 "nbformat": 4,
 "nbformat_minor": 2
}

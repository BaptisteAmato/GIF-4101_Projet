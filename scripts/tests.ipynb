{
 "cells": [
  {
   "cell_type": "code",
   "execution_count": 1,
   "metadata": {},
   "outputs": [
    {
     "name": "stderr",
     "output_type": "stream",
     "text": [
      "Using TensorFlow backend.\n"
     ]
    }
   ],
   "source": [
    "from utils import *\n",
    "from tests import *\n",
    "%load_ext autoreload\n",
    "%autoreload 2"
   ]
  },
  {
   "cell_type": "code",
   "execution_count": null,
   "metadata": {},
   "outputs": [],
   "source": [
    "axon, dendrite = test_image(126, \"model_yang\", thresh_results=False)"
   ]
  },
  {
   "cell_type": "code",
   "execution_count": 2,
   "metadata": {},
   "outputs": [
    {
     "name": "stdout",
     "output_type": "stream",
     "text": [
      "The autoreload extension is already loaded. To reload it, use:\n",
      "  %reload_ext autoreload\n"
     ]
    }
   ],
   "source": [
    "from multi_testing import *\n",
    "%load_ext autoreload\n",
    "%autoreload 2"
   ]
  },
  {
   "cell_type": "code",
   "execution_count": 3,
   "metadata": {},
   "outputs": [
    {
     "name": "stdout",
     "output_type": "stream",
     "text": [
      "######## TESTING MODEL model_yang #########\n",
      "######## LOADING THE MODEL ###########"
     ]
    },
    {
     "name": "stderr",
     "output_type": "stream",
     "text": [
      "/home/maewanto/anaconda3/lib/python3.6/site-packages/sklearn/model_selection/_split.py:2010: FutureWarning: From version 0.21, test_size will always complement train_size unless both are specified.\n",
      "  FutureWarning)\n"
     ]
    },
    {
     "name": "stdout",
     "output_type": "stream",
     "text": [
      "\n",
      "number of training examples = 3\n",
      "number of test examples = 2\n",
      "X_train shape: (3, 224, 224, 1)\n",
      "Y_train shape: (3, 224, 224, 2)\n",
      "X_test shape: (2, 224, 224, 1)\n",
      "Y_test shape: (2, 224, 224, 2)\n",
      "######## RUNNING THE MODEL ###########\n",
      "Train on 2 samples, validate on 1 samples\n",
      "Epoch 1/3\n",
      "Epoch 00001: val_loss improved from inf to 0.07300, saving model to /media/maewanto/B498-74ED/Data_projet_apprentissage/models_weights/model_yang_weights.hdf5\n",
      "2/2 [==============================] - 10s 5s/step - loss: 0.0950 - acc: 0.4867 - val_loss: 0.0730 - val_acc: 0.3886\n",
      "Epoch 2/3\n",
      "Epoch 00002: val_loss did not improve\n",
      "2/2 [==============================] - 1s 352ms/step - loss: 0.0744 - acc: 0.6469 - val_loss: 0.0741 - val_acc: 0.5503\n",
      "Epoch 3/3\n",
      "Epoch 00003: val_loss did not improve\n",
      "2/2 [==============================] - 1s 353ms/step - loss: 0.0694 - acc: 0.7977 - val_loss: 0.0981 - val_acc: 0.5503\n",
      "######## LOADING THE BEST WEIGHTS ###########\n"
     ]
    }
   ],
   "source": [
    "models_to_test = [\n",
    "    {\n",
    "        'name': 'model_yang',\n",
    "        'return_all': False,\n",
    "        'nb_examples': 5,\n",
    "        'validation_split': 0.3,\n",
    "        'epochs': 3,\n",
    "        'batch_size': 2,\n",
    "        'use_saved_weights': False\n",
    "    }\n",
    "]\n",
    "\n",
    "run_multi_tests(models_to_test)"
   ]
  },
  {
   "cell_type": "code",
   "execution_count": null,
   "metadata": {},
   "outputs": [],
   "source": []
  },
  {
   "cell_type": "code",
   "execution_count": null,
   "metadata": {
    "collapsed": true
   },
   "outputs": [],
   "source": []
  }
 ],
 "metadata": {
  "kernelspec": {
   "display_name": "Python 3",
   "language": "python",
   "name": "python3"
  },
  "language_info": {
   "codemirror_mode": {
    "name": "ipython",
    "version": 3
   },
   "file_extension": ".py",
   "mimetype": "text/x-python",
   "name": "python",
   "nbconvert_exporter": "python",
   "pygments_lexer": "ipython3",
   "version": "3.6.2"
  }
 },
 "nbformat": 4,
 "nbformat_minor": 2
}
